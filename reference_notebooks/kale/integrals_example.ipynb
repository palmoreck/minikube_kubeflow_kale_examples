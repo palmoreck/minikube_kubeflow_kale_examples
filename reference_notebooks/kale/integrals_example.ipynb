{
 "cells": [
  {
   "cell_type": "code",
   "execution_count": 1,
   "metadata": {
    "tags": [
     "imports"
    ]
   },
   "outputs": [],
   "source": [
    "import numpy as np\n",
    "import math"
   ]
  },
  {
   "cell_type": "code",
   "execution_count": null,
   "metadata": {
    "tags": [
     "pipeline-parameters"
    ]
   },
   "outputs": [],
   "source": [
    "density_p = 1000000"
   ]
  },
  {
   "cell_type": "code",
   "execution_count": null,
   "metadata": {
    "tags": [
     "functions"
    ]
   },
   "outputs": [],
   "source": [
    "def compute_error(obj,approx):\n",
    "    '''\n",
    "    Relative or absolute error between obj and approx.\n",
    "    '''\n",
    "    if math.fabs(obj) > np.nextafter(0,1):\n",
    "        Err = math.fabs(obj-approx)/math.fabs(obj)\n",
    "    else:\n",
    "        Err = math.fabs(obj-approx)\n",
    "    return Err"
   ]
  },
  {
   "cell_type": "code",
   "execution_count": null,
   "metadata": {
    "tags": [
     "block:integral1"
    ]
   },
   "outputs": [],
   "source": [
    "f = lambda x: 4/(1+x**2)\n",
    "x_p = np.random.uniform(0,1,density_p)\n",
    "obj = math.pi\n",
    "a = 0\n",
    "b = 1\n",
    "vol = b-a\n",
    "ex_1 = vol*np.mean(f(x_p))\n",
    "print(\"error relativo: {:0.4e}\".format(compute_error(obj, ex_1)))"
   ]
  },
  {
   "cell_type": "code",
   "execution_count": null,
   "metadata": {
    "tags": [
     "block:integral2"
    ]
   },
   "outputs": [],
   "source": [
    "f = lambda x: 1/x\n",
    "x_p = np.random.uniform(1,2,density_p)\n",
    "obj = math.log(2)\n",
    "a = 1\n",
    "b = 2\n",
    "vol = b-a\n",
    "ex_2 = vol*np.mean(f(x_p))\n",
    "print(\"error relativo: {:0.4e}\".format(compute_error(obj, ex_2)))"
   ]
  },
  {
   "cell_type": "code",
   "execution_count": null,
   "metadata": {
    "tags": [
     "block:integral3"
    ]
   },
   "outputs": [],
   "source": [
    "f = lambda x,y:x**2+y**2\n",
    "a1 = -1\n",
    "b1 = 1\n",
    "a2 = 0\n",
    "b2 = 1\n",
    "x_p = np.random.uniform(a1,b1,density_p)\n",
    "y_p = np.random.uniform(a2,b2,density_p)\n",
    "obj = 4/3\n",
    "vol = (b1-a1)*(b2-a2)\n",
    "ex_3 = vol*np.mean(f(x_p,y_p))\n",
    "print(\"error relativo: {:0.4e}\".format(compute_error(obj, ex_3)))"
   ]
  },
  {
   "cell_type": "code",
   "execution_count": null,
   "metadata": {
    "tags": [
     "block:integral4"
    ]
   },
   "outputs": [],
   "source": [
    "f = lambda x,y:np.cos(x)*np.sin(y)\n",
    "a1 = 0\n",
    "b1 = math.pi/2\n",
    "a2 = 0\n",
    "b2 = math.pi/2\n",
    "x_p = np.random.uniform(a1,b1,density_p)\n",
    "y_p = np.random.uniform(a2,b2,density_p)\n",
    "obj = 1\n",
    "vol = (b1-a1)*(b2-a2)\n",
    "ex_4 = vol*np.mean(f(x_p,y_p))\n",
    "print(\"error relativo: {:0.4e}\".format(compute_error(obj, ex_4)))"
   ]
  },
  {
   "cell_type": "code",
   "execution_count": null,
   "metadata": {
    "tags": [
     "block:integral5"
    ]
   },
   "outputs": [],
   "source": [
    "f = lambda x,y,z:(x+2*y+3*z)**2\n",
    "a1 = 0\n",
    "b1 = 1\n",
    "a2 = -1/2\n",
    "b2 = 0\n",
    "a3 = 0\n",
    "b3 = 1/3\n",
    "x_p = np.random.uniform(a1,b1,density_p)\n",
    "y_p = np.random.uniform(a2,b2,density_p)\n",
    "z_p = np.random.uniform(a3,b3,density_p)\n",
    "obj = 1/12\n",
    "vol = (b1-a1)*(b2-a2)*(b3-a3)\n",
    "ex_5 = vol*np.mean(f(x_p,y_p,z_p))\n",
    "print(\"error relativo: {:0.4e}\".format(compute_error(obj, ex_5)))"
   ]
  },
  {
   "cell_type": "code",
   "execution_count": null,
   "metadata": {
    "tags": [
     "block:integral6"
    ]
   },
   "outputs": [],
   "source": [
    "f = lambda x: 4/(1+x**2)\n",
    "x_p = np.random.uniform(0,1,density_p)\n",
    "obj = math.pi\n",
    "a = 0\n",
    "b = 1\n",
    "vol = b-a\n",
    "f_bar = np.mean(f(x_p))\n",
    "ex_6 = vol*f_bar\n",
    "print(\"error relativo: {:0.4e}\".format(compute_error(obj,ex_6 )))"
   ]
  }
 ],
 "metadata": {
  "kernelspec": {
   "display_name": "Python 3 (ipykernel)",
   "language": "python",
   "name": "python3"
  },
  "kubeflow_notebook": {
   "autosnapshot": false,
   "docker_image": "cdasitam/example-cdas-project-kale:0.6.1",
   "experiment": {
    "id": "new",
    "name": "integralexp"
   },
   "experiment_name": "integralexp",
   "katib_metadata": {
    "algorithm": {
     "algorithmName": "grid"
    },
    "maxFailedTrialCount": 3,
    "maxTrialCount": 12,
    "objective": {
     "objectiveMetricName": "",
     "type": "minimize"
    },
    "parallelTrialCount": 3,
    "parameters": []
   },
   "katib_run": false,
   "pipeline_description": "Example compute integrals in pipeline",
   "pipeline_name": "integralpipe",
   "snapshot_volumes": false,
   "steps_defaults": [],
   "volume_access_mode": "rwm",
   "volumes": [
    {
     "annotations": [],
     "mount_point": "/shared_volume",
     "name": "hostpath-pvc",
     "size": 1,
     "size_type": "Gi",
     "snapshot": false,
     "snapshot_name": "",
     "type": "pvc"
    }
   ]
  },
  "language_info": {
   "codemirror_mode": {
    "name": "ipython",
    "version": 3
   },
   "file_extension": ".py",
   "mimetype": "text/x-python",
   "name": "python",
   "nbconvert_exporter": "python",
   "pygments_lexer": "ipython3",
   "version": "3.8.10"
  }
 },
 "nbformat": 4,
 "nbformat_minor": 4
}
