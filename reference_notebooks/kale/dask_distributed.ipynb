{
 "cells": [
  {
   "cell_type": "markdown",
   "metadata": {
    "tags": []
   },
   "source": [
    "Docker image built with [Dockerfile](https://github.com/palmoreck/dockerfiles/blob/master/jupyterlab/kale/distributed/0.1/Dockerfile)"
   ]
  },
  {
   "cell_type": "code",
   "execution_count": 1,
   "metadata": {
    "tags": [
     "imports"
    ]
   },
   "outputs": [],
   "source": [
    "import math\n",
    "import time\n",
    "\n",
    "from dask.distributed import Client\n",
    "import multiprocessing\n",
    "from scipy.integrate import quad\n",
    "from pytest import approx"
   ]
  },
  {
   "cell_type": "code",
   "execution_count": 2,
   "metadata": {
    "tags": [
     "block:variables_set"
    ]
   },
   "outputs": [],
   "source": [
    "f = lambda x: math.exp(-x**2)\n",
    "a = 0\n",
    "b = 1\n",
    "n = 10**7\n",
    "h_hat = (b-a)/n\n",
    "p = multiprocessing.cpu_count()\n",
    "n_subintervals_per_core = int(n/p)"
   ]
  },
  {
   "cell_type": "code",
   "execution_count": 3,
   "metadata": {
    "tags": [
     "functions"
    ]
   },
   "outputs": [],
   "source": [
    "def create_nodes_in_subintervals(my_id,a,b,h_hat,n,n_s_c):\n",
    "    begin = my_id*n_s_c\n",
    "    end = begin+n_s_c\n",
    "    h_hat = (b-a)/n\n",
    "    nodes = []\n",
    "    for i in range(begin,end):\n",
    "        nodes.append(a+(i+1/2.0)*h_hat)\n",
    "    return nodes\n",
    "def evaluate_f_in_nodes_and_sum(nodes,f):\n",
    "    sum_res = 0\n",
    "    for node in nodes:\n",
    "        sum_res+=f(node)\n",
    "    return sum_res"
   ]
  },
  {
   "cell_type": "code",
   "execution_count": 4,
   "metadata": {
    "tags": [
     "block:map_gather",
     "prev:variables_set"
    ]
   },
   "outputs": [],
   "source": [
    "client = Client()\n",
    "futures_nodes = client.map(create_nodes_in_subintervals,range(p),\n",
    "                           **{'a':a,\n",
    "                              'b':b,\n",
    "                              \"h_hat\":h_hat,\n",
    "                              'n':n,\n",
    "                              \"n_s_c\":n_subintervals_per_core}\n",
    "                            )\n",
    "futures_evaluated = client.map(evaluate_f_in_nodes_and_sum, futures_nodes,\n",
    "                            **{'f':f}\n",
    "                            )\n",
    "results_gather = client.gather(futures_evaluated)"
   ]
  },
  {
   "cell_type": "code",
   "execution_count": 6,
   "metadata": {
    "tags": [
     "block:compute_integral",
     "prev:map_gather"
    ]
   },
   "outputs": [],
   "source": [
    "res_rcf_distributed = h_hat*sum(results_gather)"
   ]
  },
  {
   "cell_type": "code",
   "execution_count": 8,
   "metadata": {
    "tags": [
     "block:print",
     "prev:compute_integral"
    ]
   },
   "outputs": [
    {
     "name": "stdout",
     "output_type": "stream",
     "text": [
      "0.7468241328124374\n"
     ]
    }
   ],
   "source": [
    "print(res_rcf_distributed)"
   ]
  }
 ],
 "metadata": {
  "kernelspec": {
   "display_name": "Python 3",
   "language": "python",
   "name": "python3"
  },
  "kubeflow_notebook": {
   "autosnapshot": false,
   "docker_image": "palmoreck/kale_distributed:0.1",
   "experiment": {
    "id": "new",
    "name": "distributedexp"
   },
   "experiment_name": "distributedexp",
   "katib_metadata": {
    "algorithm": {
     "algorithmName": "grid"
    },
    "maxFailedTrialCount": 3,
    "maxTrialCount": 12,
    "objective": {
     "objectiveMetricName": "",
     "type": "minimize"
    },
    "parallelTrialCount": 3,
    "parameters": []
   },
   "katib_run": false,
   "pipeline_description": "Rcf with kale and distributed",
   "pipeline_name": "mydistributedrcf",
   "snapshot_volumes": false,
   "steps_defaults": [],
   "volume_access_mode": "rwm",
   "volumes": [
    {
     "annotations": [],
     "mount_point": "/shared_volume",
     "name": "hostpath-pvc",
     "size": 1,
     "size_type": "Gi",
     "snapshot": false,
     "snapshot_name": "",
     "type": "pvc"
    }
   ]
  },
  "language_info": {
   "codemirror_mode": {
    "name": "ipython",
    "version": 3
   },
   "file_extension": ".py",
   "mimetype": "text/x-python",
   "name": "python",
   "nbconvert_exporter": "python",
   "pygments_lexer": "ipython3",
   "version": "3.7.3"
  }
 },
 "nbformat": 4,
 "nbformat_minor": 4
}
