{
 "cells": [
  {
   "cell_type": "markdown",
   "metadata": {
    "tags": []
   },
   "source": [
    "Docker image built with [Dockerfile](https://github.com/palmoreck/dockerfiles/blob/master/jupyterlab/kale/opt/0.1/Dockerfile)"
   ]
  },
  {
   "cell_type": "code",
   "execution_count": null,
   "metadata": {
    "tags": [
     "imports"
    ]
   },
   "outputs": [],
   "source": [
    "import numpy as np\n",
    "import sympy\n",
    "from sympy.tensor.array import derive_by_array\n",
    "\n",
    "from opt.classes.problems import ProblemFeasibleInitPoint\n",
    "from opt.classes.functions import LogarithmicBarrier, GradientLogarithmicBarrier, \\\n",
    "HessianLogarithmicBarrier"
   ]
  },
  {
   "cell_type": "code",
   "execution_count": null,
   "metadata": {
    "tags": [
     "functions"
    ]
   },
   "outputs": [],
   "source": [
    "\n",
    "def map_sympy_vars_to_array_values(x):\n",
    "    \"\"\"\n",
    "    Auxiliary function to evaluate derivatives of sympy which are defined\n",
    "    in terms of symbols x1, x2.\n",
    "    Args:\n",
    "        x (numpy ndarray): 1d array of floats\n",
    "    Returns:\n",
    "        dictionary of the form {x1: x[0], x2: x[1],...} to map sympy Symbols\n",
    "        to values.\n",
    "    \"\"\"\n",
    "    n = x.size\n",
    "    return {\"x%s\" % i: x[i-1] for i in range(1,n+1)}\n",
    "\n",
    "def gf_sympy_func(x):\n",
    "    x1, x2 = sympy.symbols(\"x1, x2\")\n",
    "    x_sympy = (x1, x2)\n",
    "    fo_sympy = -3*x1 -5*x2\n",
    "    return derive_by_array(fo_sympy, x_sympy)\n",
    "\n",
    "def gf(x):\n",
    "    gf_sympy = gf_sympy_func(x)\n",
    "    return np.array([first_partial_derivative.subs(map_sympy_vars_to_array_values(x)) \\\n",
    "                     for first_partial_derivative in gf_sympy],\n",
    "                     dtype = float)\n",
    "\n",
    "def Hf(x):\n",
    "    x1, x2 = sympy.symbols(\"x1, x2\")\n",
    "    x_sympy = (x1, x2)\n",
    "    gf_sympy = gf_sympy_func(x)\n",
    "    Hf_sympy = derive_by_array(gf_sympy, x_sympy)\n",
    "    return np.array([second_partial_derivative.subs(map_sympy_vars_to_array_values(x)) \\\n",
    "                     for second_partial_derivative in Hf_sympy],\n",
    "                     dtype=float).reshape(n,n)\n",
    "\n",
    "def gphi_sympy_func(x):\n",
    "    x1, x2 = sympy.symbols(\"x1, x2\")\n",
    "    x_sympy = (x1, x2)\n",
    "    phi_sympy = -(sympy.log(4-x1) + sympy.log(12-2*x2) + sympy.log(18-3*x1-2*x2) + sympy.log(x1) + sympy.log(x2))  \n",
    "    return derive_by_array(phi_sympy, x_sympy)\n",
    "def gphi(x):\n",
    "    gphi_sympy = gphi_sympy_func(x)\n",
    "    return np.array([first_partial_derivative.subs(map_sympy_vars_to_array_values(x)) \\\n",
    "                     for first_partial_derivative in gphi_sympy],\n",
    "                     dtype = float)\n",
    "\n",
    "def Hphi(x):\n",
    "    x1, x2 = sympy.symbols(\"x1, x2\")\n",
    "    x_sympy = (x1, x2)\n",
    "    gphi_sympy = gphi_sympy_func(x)\n",
    "    Hphi_sympy = derive_by_array(gphi_sympy,x_sympy)\n",
    "    return np.array([second_partial_derivative.subs(map_sympy_vars_to_array_values(x)) \\\n",
    "                     for second_partial_derivative in Hphi_sympy],\n",
    "                    dtype=float).reshape(n,n)\n",
    "\n",
    "#definition of objective function with numpy\n",
    "\n",
    "def fo_numpy(x):\n",
    "    return np.dot(np.array([-3, -5]), x)\n"
   ]
  },
  {
   "cell_type": "code",
   "execution_count": null,
   "metadata": {
    "tags": [
     "block:set_values"
    ]
   },
   "outputs": [],
   "source": [
    "c = np.array([-3, -5])\n",
    "b = np.array([4, 12, 18], dtype=float)\n",
    "x_0 = np.array([1, 2], dtype=float)\n",
    "n = x_0.size\n",
    "\n",
    "gf_class = GradientLogarithmicBarrier(gf, gphi)\n",
    "Hf_class = HessianLogarithmicBarrier(Hf, Hphi)\n",
    "\n",
    "#parameters for logarithmic barrier method\n",
    "mu = 10\n",
    "t_B_0 = 10\n",
    "\n",
    "#solution\n",
    "x_ast = np.array([2, 6], dtype=float)\n",
    "p_ast = fo_numpy(x_ast)\n",
    "\n",
    "#constraints inequalities definition as < = 0\n",
    "\n",
    "constraints_ineq = {0: lambda x: x[0] - 4,\n",
    "                    1: lambda x: 2*x[1] - 12,\n",
    "                    2: lambda x: 3*x[0] + 2*x[1] - 18,\n",
    "                    3: lambda x: -x[0],\n",
    "                    4: lambda x: -x[1]\n",
    "                    }"
   ]
  },
  {
   "cell_type": "code",
   "execution_count": null,
   "metadata": {
    "tags": [
     "block:type_problem",
     "prev:set_values"
    ]
   },
   "outputs": [],
   "source": [
    "type_problem = \"CICO\" #Constrained Inequality Convex Optimization\n",
    "p = ProblemFeasibleInitPoint(type_problem, \n",
    "                             fo_numpy,\n",
    "                             mu=mu,\n",
    "                             constraints_ineq=constraints_ineq)"
   ]
  },
  {
   "cell_type": "code",
   "execution_count": null,
   "metadata": {
    "tags": [
     "block:call_solve",
     "prev:set_values",
     "prev:type_problem"
    ]
   },
   "outputs": [],
   "source": [
    "if p.well_defined_problem:\n",
    "    print(\"problema %s bien definido\" % p.type_problem)\n",
    "    [x,total_iter,t_B,x_plot] = p.solve(x_0,\n",
    "                                        t_B_0,\n",
    "                                        x_ast=x_ast,\n",
    "                                        p_ast=p_ast,\n",
    "                                        gf_B=gf_class,\n",
    "                                        Hf_B=Hf_class\n",
    "                                       )\n",
    "else:\n",
    "    print(\"problema %s no bien definido\" % p.type_problem)\n"
   ]
  }
 ],
 "metadata": {
  "kernelspec": {
   "display_name": "Python 3 (ipykernel)",
   "language": "python",
   "name": "python3"
  },
  "kubeflow_notebook": {
   "autosnapshot": false,
   "docker_image": "palmoreck/kale_opt:0.1",
   "experiment": {
    "id": "new",
    "name": "opt-experiment"
   },
   "experiment_name": "opt-experiment",
   "katib_metadata": {
    "algorithm": {
     "algorithmName": "grid"
    },
    "maxFailedTrialCount": 3,
    "maxTrialCount": 12,
    "objective": {
     "objectiveMetricName": "",
     "type": "minimize"
    },
    "parallelTrialCount": 3,
    "parameters": []
   },
   "katib_run": false,
   "pipeline_description": "run of package opt",
   "pipeline_name": "opt-pipeline",
   "snapshot_volumes": false,
   "steps_defaults": [],
   "volume_access_mode": "rwm",
   "volumes": [
    {
     "annotations": [],
     "mount_point": "/shared_volume",
     "name": "hostpath-pvc",
     "size": 1,
     "size_type": "Gi",
     "snapshot": false,
     "snapshot_name": "",
     "type": "pvc"
    }
   ]
  },
  "language_info": {
   "codemirror_mode": {
    "name": "ipython",
    "version": 3
   },
   "file_extension": ".py",
   "mimetype": "text/x-python",
   "name": "python",
   "nbconvert_exporter": "python",
   "pygments_lexer": "ipython3",
   "version": "3.8.10"
  }
 },
 "nbformat": 4,
 "nbformat_minor": 4
}
